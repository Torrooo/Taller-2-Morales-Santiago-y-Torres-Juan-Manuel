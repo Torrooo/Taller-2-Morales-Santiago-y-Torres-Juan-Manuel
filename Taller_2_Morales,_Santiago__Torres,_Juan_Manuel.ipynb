{
  "nbformat": 4,
  "nbformat_minor": 0,
  "metadata": {
    "colab": {
      "provenance": []
    },
    "kernelspec": {
      "name": "python3",
      "display_name": "Python 3"
    },
    "language_info": {
      "name": "python"
    }
  },
  "cells": [
    {
      "cell_type": "markdown",
      "source": [
        "## Morales, Santiago\n",
        "## Torres , Juan Manuel"
      ],
      "metadata": {
        "id": "KqTSeBCK0Cgb"
      }
    },
    {
      "cell_type": "code",
      "execution_count": 16,
      "metadata": {
        "id": "QWKcZpqyq8im"
      },
      "outputs": [],
      "source": [
        "import numpy as np\n",
        "import pandas as pd\n",
        "import matplotlib.pyplot as plt\n",
        "from scipy.optimize import minimize\n",
        "from scipy.optimize import linprog"
      ]
    },
    {
      "cell_type": "markdown",
      "source": [
        "##Punto 1\n"
      ],
      "metadata": {
        "id": "PTzHsiCsMta2"
      }
    },
    {
      "cell_type": "code",
      "source": [
        "c = np.array([-3,-5])\n",
        "\n",
        "A = np.array([[1,1],\n",
        "              [2,4],\n",
        "              [1,2],\n",
        "              [-1,0],\n",
        "              [0,-1]])\n",
        "\n",
        "b = np.array([500,1000,2000,-100,-150])\n",
        "\n",
        "bounds = [(  100, None),\n",
        "              (150, None),\n",
        "              ]\n",
        "\n",
        "res = linprog(c, A_ub=A, b_ub=b,\n",
        "                  bounds=bounds, method='revised simplex')\n",
        "\n",
        "res"
      ],
      "metadata": {
        "colab": {
          "base_uri": "https://localhost:8080/"
        },
        "id": "H8XmOE1wsHLH",
        "outputId": "de7b6a13-56a8-4aeb-f09c-3187f8201a80"
      },
      "execution_count": 17,
      "outputs": [
        {
          "output_type": "stream",
          "name": "stderr",
          "text": [
            "<ipython-input-17-061703751a91>:15: DeprecationWarning: `method='revised simplex'` is deprecated and will be removed in SciPy 1.11.0. Please use one of the HiGHS solvers (e.g. `method='highs'`) in new code.\n",
            "  res = linprog(c, A_ub=A, b_ub=b,\n"
          ]
        },
        {
          "output_type": "execute_result",
          "data": {
            "text/plain": [
              " message: Optimization terminated successfully.\n",
              " success: True\n",
              "  status: 0\n",
              "     fun: -1350.0\n",
              "       x: [ 2.000e+02  1.500e+02]\n",
              "     nit: 2"
            ]
          },
          "metadata": {},
          "execution_count": 17
        }
      ]
    },
    {
      "cell_type": "markdown",
      "source": [
        "## La producción óptima del producto A es de 200 y la del producto B es de 150, de esta forma, la ganancia total sería de $1.350"
      ],
      "metadata": {
        "id": "uRWARVt40JWK"
      }
    },
    {
      "cell_type": "markdown",
      "source": [
        "## Punto 2"
      ],
      "metadata": {
        "id": "PTpruRRIzdEk"
      }
    },
    {
      "cell_type": "code",
      "source": [
        "c2 = np.array([0.1 , 0.15 , 0.16 , 0.08])\n",
        "\n",
        "A2 = np.array([[0.5 , 0.3 , 0.25 , 0.6],\n",
        "              [0.3 , 0.1 , 0.4 , 0.2],\n",
        "              [0.2 , 0.6 , 0.35 , 0.2],\n",
        "              ])\n",
        "\n",
        "b2 = np.array([35 , 30 , 35])\n",
        "\n",
        "C = np.array([\n",
        "               [1 , 1 , 1 , 1],\n",
        "              ])\n",
        "\n",
        "D = np.array([100])\n",
        "\n",
        "\n",
        "\n",
        "\n",
        "bounds2 = [(  0, None),\n",
        "            (0, None),\n",
        "          (0, None),\n",
        "          (0, None),\n",
        "              ]\n",
        "\n",
        "res2 = linprog(-c2, A_ub=A2, b_ub=b2, A_eq=C, b_eq=D,\n",
        "                  bounds=bounds2, method='revised simplex')\n",
        "\n",
        "res2"
      ],
      "metadata": {
        "colab": {
          "base_uri": "https://localhost:8080/"
        },
        "id": "uO9Ks-4XzcaB",
        "outputId": "0a9532d7-0568-4ca0-a40d-1a67431a1744"
      },
      "execution_count": 18,
      "outputs": [
        {
          "output_type": "stream",
          "name": "stderr",
          "text": [
            "<ipython-input-18-4cc2c7d93d37>:25: DeprecationWarning: `method='revised simplex'` is deprecated and will be removed in SciPy 1.11.0. Please use one of the HiGHS solvers (e.g. `method='highs'`) in new code.\n",
            "  res2 = linprog(-c2, A_ub=A2, b_ub=b2, A_eq=C, b_eq=D,\n"
          ]
        },
        {
          "output_type": "execute_result",
          "data": {
            "text/plain": [
              " message: Optimization terminated successfully.\n",
              " success: True\n",
              "  status: 0\n",
              "     fun: -13.73684210526316\n",
              "       x: [ 0.000e+00  1.579e+01  5.789e+01  2.632e+01]\n",
              "     nit: 5"
            ]
          },
          "metadata": {},
          "execution_count": 18
        }
      ]
    },
    {
      "cell_type": "code",
      "source": [
        "import cvxpy as cp\n",
        "n=4\n",
        "x = cp.Variable(n)\n",
        "obj = cp.Minimize(-c2@x)\n",
        "restricciones = [A2@x <= b2,  C@x >= D, x[0:3]>=0]\n",
        "prob = cp.Problem(obj, restricciones)\n",
        "prob.solve()\n",
        "\n",
        "# Print result.\n",
        "print(\"El valor óptimo es\", prob.value)\n",
        "print(round(pd.DataFrame(x.value),2))\n"
      ],
      "metadata": {
        "colab": {
          "base_uri": "https://localhost:8080/"
        },
        "id": "O_u_nlih68lF",
        "outputId": "aa3abfad-0e7f-417c-ff65-7e2e0872f12f"
      },
      "execution_count": 19,
      "outputs": [
        {
          "output_type": "stream",
          "name": "stdout",
          "text": [
            "El valor óptimo es -13.73684210144203\n",
            "       0\n",
            "0   0.00\n",
            "1  15.79\n",
            "2  57.89\n",
            "3  26.32\n"
          ]
        }
      ]
    },
    {
      "cell_type": "markdown",
      "source": [
        "## La distribución de los 100 millones en los 4 portafolios es: 0 millones para el primer portafolio, 15.79 millones para el segundo portafolio, 57.89 millones para el tercer portafolio, y 26.32 millones para el cuarto portafolio, de esta forma, el retorno esperado sería de 13.74  "
      ],
      "metadata": {
        "id": "CTjwT7x20fba"
      }
    },
    {
      "cell_type": "markdown",
      "source": [
        "## Punto 3"
      ],
      "metadata": {
        "id": "mtLW9DgiWfq8"
      }
    },
    {
      "cell_type": "code",
      "source": [
        "X = np.array([0 , 0 , 0 , 0 , 0 , 0 , 0 , 0 , 0 , 0 , 0 , 0 , 0 , 1])\n",
        "\n",
        "A3 = np.array([[1 , 0 , 0 , 0 , 0 , 1 , 0 , 0 , -1 , 0 , 0 , 0 , 0 , 0],\n",
        "               [-1.01 , 1 , 0 , 0 , 0 , 0 , 1 , 0 , 1.003 , -1 , 0 , 0 , 0 , 0],\n",
        "               [0 , -1.01 , 1 , 0 , 0 , 0 , 0 , 1 , 0 , 1.003 , -1 , 0 , 0 , 0],\n",
        "               [0 , 0 , -1.01 , 1 , 0 , -1.02 , 0 , 0 , 0 , 0 , 1.003 , -1 , 0 , 0 ],\n",
        "               [0 , 0 , 0 , -1.01 , 1 , 0 , -1.02 , 0 , 0 , 0 , 0 , 1.003 , -1 , 0],\n",
        "               [0 , 0 , 0 , 0 , -1.01 , 0 , 0 , -1.02 , 0 , 0 , 0 , 0 , 1.003 , -1]])\n",
        "\n",
        "b3 = np.array([150 , 100 , -200 , 200 , -50 , -300])\n",
        "\n",
        "bounds3 = [(0 , 100),\n",
        "           (0 , 100),\n",
        "           (0 , 100),\n",
        "           (0 , 100),\n",
        "           (0 , 100),\n",
        "           (0 , None),\n",
        "           (0 , None),\n",
        "           (0 , None),\n",
        "           (0 , None),\n",
        "           (0 , None),\n",
        "           (0 , None),\n",
        "           (0 , None),\n",
        "           (0 , None),\n",
        "           (0 , None),]\n",
        "\n",
        "res3 = linprog(-X, A_eq=A3, b_eq=b3,\n",
        "                  bounds=bounds3, method= 'revised simplex')\n",
        "res3 .x"
      ],
      "metadata": {
        "colab": {
          "base_uri": "https://localhost:8080/"
        },
        "id": "er7MIP7-WhU_",
        "outputId": "3f35c92a-22c2-411e-ebdc-b429a23bc348"
      },
      "execution_count": 21,
      "outputs": [
        {
          "output_type": "stream",
          "name": "stderr",
          "text": [
            "<ipython-input-21-cc7b279817fc>:27: DeprecationWarning: `method='revised simplex'` is deprecated and will be removed in SciPy 1.11.0. Please use one of the HiGHS solvers (e.g. `method='highs'`) in new code.\n",
            "  res3 = linprog(-X, A_eq=A3, b_eq=b3,\n"
          ]
        },
        {
          "output_type": "execute_result",
          "data": {
            "text/plain": [
              "array([  0.        ,  50.98039216,   0.        ,   0.        ,\n",
              "         0.        , 150.        ,  49.01960784, 203.43436358,\n",
              "         0.        ,   0.        , 351.9441675 ,   0.        ,\n",
              "         0.        ,  92.49694915])"
            ]
          },
          "metadata": {},
          "execution_count": 21
        }
      ]
    },
    {
      "cell_type": "code",
      "source": [
        "import cvxpy as cp\n",
        "n=14\n",
        "x = cp.Variable(n)\n",
        "obj = cp.Minimize(-X@x)\n",
        "restricciones = [A3@x >= b3, x[0:5] <=100, x[0:13] >= 0]\n",
        "prob = cp.Problem(obj, restricciones)\n",
        "prob.solve()\n",
        "\n"
      ],
      "metadata": {
        "colab": {
          "base_uri": "https://localhost:8080/"
        },
        "id": "HU0HIgLRZidH",
        "outputId": "5750f5f0-3071-43dc-8da0-03a68383e853"
      },
      "execution_count": 22,
      "outputs": [
        {
          "output_type": "execute_result",
          "data": {
            "text/plain": [
              "-92.49694914810405"
            ]
          },
          "metadata": {},
          "execution_count": 22
        }
      ]
    },
    {
      "cell_type": "markdown",
      "source": [
        "## Al maximizar la función, el saldo del sexto mes (Junio) es de $92.4969"
      ],
      "metadata": {
        "id": "y2KPc4Hj1cNn"
      }
    },
    {
      "cell_type": "markdown",
      "source": [
        "##Punto 4"
      ],
      "metadata": {
        "id": "rDdhcSaKKL6z"
      }
    },
    {
      "cell_type": "code",
      "source": [
        "\n",
        "c4 =np.array([0, 0, 0, 0, 0, 0, 0, 1])\n",
        "\n",
        "R = (1+0.0001)**7\n",
        "\n",
        "A4 = np.array([[1, 0, 0, 0, -1, 0, 0, 0],\n",
        "              [0, 1, 0, 0, R, -1, 0, 0],\n",
        "              [0, 0, 1, 0, 0, R, -1, 0],\n",
        "              [0, 0, 0, 1, 0, 0, R, -1]])\n",
        "\n",
        "b4 = np.array([[150, -100, -50, 200]])\n",
        "\n",
        "\n",
        "res4 = linprog(-c4, A_ub=A4, b_ub=-b4, method='simplex')\n",
        "pd.DataFrame(res4.x).round(2).T\n"
      ],
      "metadata": {
        "colab": {
          "base_uri": "https://localhost:8080/",
          "height": 135
        },
        "id": "nwNiApr7Np8g",
        "outputId": "bdb014df-8de0-46c6-a803-ac6bea1dcba1"
      },
      "execution_count": 34,
      "outputs": [
        {
          "output_type": "stream",
          "name": "stderr",
          "text": [
            "<ipython-input-34-b1d1a2cd62d8>:13: DeprecationWarning: `method='simplex'` is deprecated and will be removed in SciPy 1.11.0. Please use one of the HiGHS solvers (e.g. `method='highs'`) in new code.\n",
            "  res4 = linprog(-c4, A_ub=A4, b_ub=-b4, method='simplex')\n"
          ]
        },
        {
          "output_type": "execute_result",
          "data": {
            "text/plain": [
              "     0    1    2    3      4      5     6       7\n",
              "0  0.0  0.0  0.0  0.0  150.0  50.11  0.14  200.14"
            ],
            "text/html": [
              "\n",
              "  <div id=\"df-0430d60c-732f-4a41-ac58-86692733ac5b\">\n",
              "    <div class=\"colab-df-container\">\n",
              "      <div>\n",
              "<style scoped>\n",
              "    .dataframe tbody tr th:only-of-type {\n",
              "        vertical-align: middle;\n",
              "    }\n",
              "\n",
              "    .dataframe tbody tr th {\n",
              "        vertical-align: top;\n",
              "    }\n",
              "\n",
              "    .dataframe thead th {\n",
              "        text-align: right;\n",
              "    }\n",
              "</style>\n",
              "<table border=\"1\" class=\"dataframe\">\n",
              "  <thead>\n",
              "    <tr style=\"text-align: right;\">\n",
              "      <th></th>\n",
              "      <th>0</th>\n",
              "      <th>1</th>\n",
              "      <th>2</th>\n",
              "      <th>3</th>\n",
              "      <th>4</th>\n",
              "      <th>5</th>\n",
              "      <th>6</th>\n",
              "      <th>7</th>\n",
              "    </tr>\n",
              "  </thead>\n",
              "  <tbody>\n",
              "    <tr>\n",
              "      <th>0</th>\n",
              "      <td>0.0</td>\n",
              "      <td>0.0</td>\n",
              "      <td>0.0</td>\n",
              "      <td>0.0</td>\n",
              "      <td>150.0</td>\n",
              "      <td>50.11</td>\n",
              "      <td>0.14</td>\n",
              "      <td>200.14</td>\n",
              "    </tr>\n",
              "  </tbody>\n",
              "</table>\n",
              "</div>\n",
              "      <button class=\"colab-df-convert\" onclick=\"convertToInteractive('df-0430d60c-732f-4a41-ac58-86692733ac5b')\"\n",
              "              title=\"Convert this dataframe to an interactive table.\"\n",
              "              style=\"display:none;\">\n",
              "        \n",
              "  <svg xmlns=\"http://www.w3.org/2000/svg\" height=\"24px\"viewBox=\"0 0 24 24\"\n",
              "       width=\"24px\">\n",
              "    <path d=\"M0 0h24v24H0V0z\" fill=\"none\"/>\n",
              "    <path d=\"M18.56 5.44l.94 2.06.94-2.06 2.06-.94-2.06-.94-.94-2.06-.94 2.06-2.06.94zm-11 1L8.5 8.5l.94-2.06 2.06-.94-2.06-.94L8.5 2.5l-.94 2.06-2.06.94zm10 10l.94 2.06.94-2.06 2.06-.94-2.06-.94-.94-2.06-.94 2.06-2.06.94z\"/><path d=\"M17.41 7.96l-1.37-1.37c-.4-.4-.92-.59-1.43-.59-.52 0-1.04.2-1.43.59L10.3 9.45l-7.72 7.72c-.78.78-.78 2.05 0 2.83L4 21.41c.39.39.9.59 1.41.59.51 0 1.02-.2 1.41-.59l7.78-7.78 2.81-2.81c.8-.78.8-2.07 0-2.86zM5.41 20L4 18.59l7.72-7.72 1.47 1.35L5.41 20z\"/>\n",
              "  </svg>\n",
              "      </button>\n",
              "      \n",
              "  <style>\n",
              "    .colab-df-container {\n",
              "      display:flex;\n",
              "      flex-wrap:wrap;\n",
              "      gap: 12px;\n",
              "    }\n",
              "\n",
              "    .colab-df-convert {\n",
              "      background-color: #E8F0FE;\n",
              "      border: none;\n",
              "      border-radius: 50%;\n",
              "      cursor: pointer;\n",
              "      display: none;\n",
              "      fill: #1967D2;\n",
              "      height: 32px;\n",
              "      padding: 0 0 0 0;\n",
              "      width: 32px;\n",
              "    }\n",
              "\n",
              "    .colab-df-convert:hover {\n",
              "      background-color: #E2EBFA;\n",
              "      box-shadow: 0px 1px 2px rgba(60, 64, 67, 0.3), 0px 1px 3px 1px rgba(60, 64, 67, 0.15);\n",
              "      fill: #174EA6;\n",
              "    }\n",
              "\n",
              "    [theme=dark] .colab-df-convert {\n",
              "      background-color: #3B4455;\n",
              "      fill: #D2E3FC;\n",
              "    }\n",
              "\n",
              "    [theme=dark] .colab-df-convert:hover {\n",
              "      background-color: #434B5C;\n",
              "      box-shadow: 0px 1px 3px 1px rgba(0, 0, 0, 0.15);\n",
              "      filter: drop-shadow(0px 1px 2px rgba(0, 0, 0, 0.3));\n",
              "      fill: #FFFFFF;\n",
              "    }\n",
              "  </style>\n",
              "\n",
              "      <script>\n",
              "        const buttonEl =\n",
              "          document.querySelector('#df-0430d60c-732f-4a41-ac58-86692733ac5b button.colab-df-convert');\n",
              "        buttonEl.style.display =\n",
              "          google.colab.kernel.accessAllowed ? 'block' : 'none';\n",
              "\n",
              "        async function convertToInteractive(key) {\n",
              "          const element = document.querySelector('#df-0430d60c-732f-4a41-ac58-86692733ac5b');\n",
              "          const dataTable =\n",
              "            await google.colab.kernel.invokeFunction('convertToInteractive',\n",
              "                                                     [key], {});\n",
              "          if (!dataTable) return;\n",
              "\n",
              "          const docLinkHtml = 'Like what you see? Visit the ' +\n",
              "            '<a target=\"_blank\" href=https://colab.research.google.com/notebooks/data_table.ipynb>data table notebook</a>'\n",
              "            + ' to learn more about interactive tables.';\n",
              "          element.innerHTML = '';\n",
              "          dataTable['output_type'] = 'display_data';\n",
              "          await google.colab.output.renderOutput(dataTable, element);\n",
              "          const docLink = document.createElement('div');\n",
              "          docLink.innerHTML = docLinkHtml;\n",
              "          element.appendChild(docLink);\n",
              "        }\n",
              "      </script>\n",
              "    </div>\n",
              "  </div>\n",
              "  "
            ]
          },
          "metadata": {},
          "execution_count": 34
        }
      ]
    },
    {
      "cell_type": "markdown",
      "source": [
        "##Punto 5\n"
      ],
      "metadata": {
        "id": "y3BJWLqZnSQz"
      }
    },
    {
      "cell_type": "code",
      "source": [
        "\n",
        "c5 = np.array([0, 0, 0, 5, 8, 10])\n",
        "\n",
        "\n",
        "A5 = np.array([[0, 0, 0, 1, 0, 0],\n",
        "                [0, 1, 0, 0, 0, 0],\n",
        "                [0, 0, 1, 0, 0, 0],\n",
        "                [0, 0, 0, 0, 1, 0],\n",
        "                [0, 0, 0, 0, 0, 1]])\n",
        "\n",
        "b5 = np.array([2000, 300, 250, 2000, 2000])\n",
        "\n",
        "C2 = np.array([[1, 1, 1, 0, 0, 0],\n",
        "                  [0, 0, 0, 1, 1, 1]])\n",
        "\n",
        "D2 = np.array([1000, 10000])\n",
        "\n",
        "\n",
        "res5 = linprog(-c5, A_ub = -A5, b_ub = -b5, A_eq = C2, b_eq = D2, method = 'simplex')\n",
        "res5\n"
      ],
      "metadata": {
        "colab": {
          "base_uri": "https://localhost:8080/"
        },
        "id": "JiBRsrh9nTw9",
        "outputId": "ba64bf13-bfaa-4c64-dd48-7ebf880728fa"
      },
      "execution_count": 23,
      "outputs": [
        {
          "output_type": "stream",
          "name": "stderr",
          "text": [
            "<ipython-input-23-9c2c4d2096e3>:18: DeprecationWarning: `method='simplex'` is deprecated and will be removed in SciPy 1.11.0. Please use one of the HiGHS solvers (e.g. `method='highs'`) in new code.\n",
            "  res5 = linprog(-c5, A_ub = -A5, b_ub = -b5, A_eq = C2, b_eq = D2, method = 'simplex')\n"
          ]
        },
        {
          "output_type": "execute_result",
          "data": {
            "text/plain": [
              " message: Optimization terminated successfully.\n",
              " success: True\n",
              "  status: 0\n",
              "     fun: -86000.0\n",
              "       x: [ 4.500e+02  3.000e+02  2.500e+02  2.000e+03  2.000e+03\n",
              "            6.000e+03]\n",
              "     nit: 3"
            ]
          },
          "metadata": {},
          "execution_count": 23
        }
      ]
    },
    {
      "cell_type": "markdown",
      "source": [
        "## La función objetivo maximizada es igual a $86.000 ; y el presupuesto de ventas es de 2000, el de marketing es de 2000, y el de producción es de 6000"
      ],
      "metadata": {
        "id": "_Qt9-LZTMMr5"
      }
    },
    {
      "cell_type": "markdown",
      "source": [
        "##Punto 6"
      ],
      "metadata": {
        "id": "TPEvZsFb39nh"
      }
    }
  ]
}